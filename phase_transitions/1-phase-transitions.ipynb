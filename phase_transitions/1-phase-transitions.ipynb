{
 "cells": [
  {
   "cell_type": "markdown",
   "metadata": {},
   "source": [
    "# Starter notebook for phase transitions during training\n",
    "\n",
    "1. Create local and global datasets\n",
    "2. Observe loss curves for phase transitions"
   ]
  },
  {
   "cell_type": "markdown",
   "metadata": {},
   "source": [
    "## Global dataset\n",
    "\n",
    "We'll train a small transformer to iterate.\n",
    "\n",
    "*Note: the current setup of Prisma where train config + transformer config are in the same doc is super annoying.* "
   ]
  },
  {
   "cell_type": "markdown",
   "metadata": {},
   "source": [
    "### New config \n",
    "Putting here instead of creating a config object for visibility."
   ]
  },
  {
   "cell_type": "code",
   "execution_count": 1,
   "metadata": {},
   "outputs": [],
   "source": [
    "from dataclasses import dataclass\n",
    "from vit_prisma.models.layers.transformer_block import TransformerBlock\n",
    "import torch.nn as nn\n",
    "from collections import Counter\n",
    "import random\n",
    "\n",
    "IMAGE_SIZE = 224\n",
    "PATCH_SIZE = 56 # 4 patches on width and on height, for a total of 16 patches\n",
    "\n",
    "@dataclass\n",
    "class ImageConfig:\n",
    "    image_size: int = IMAGE_SIZE\n",
    "    patch_size: int = PATCH_SIZE \n",
    "    n_channels: int = 1\n",
    "\n",
    "@dataclass\n",
    "class TransformerConfig:\n",
    "    hidden_dim: int = 128\n",
    "    num_heads: int = 4\n",
    "    num_layers: int = 1\n",
    "    block_fn = TransformerBlock\n",
    "    mlp_dim: int = hidden_dim * 4  # Use a computed default\n",
    "    activation_name: str = 'GELU'\n",
    "    attention_only: bool = False\n",
    "    attn_hidden_layer: bool = True\n",
    "\n",
    "@dataclass\n",
    "class LayerNormConfig:\n",
    "    qknorm: bool = False\n",
    "    layer_norm_eps: float = 0.0\n",
    "\n",
    "@dataclass\n",
    "class DropoutConfig:\n",
    "    patch: float = 0.0\n",
    "    position: float = 0.0\n",
    "    attention: float = 0.0\n",
    "    proj: float = 0.0\n",
    "    mlp: float = 0.0\n",
    "\n",
    "@dataclass\n",
    "class InitializationConfig:\n",
    "    weight_type: str = 'he'\n",
    "    cls_std: float = 1e-6\n",
    "    pos_std: float = 0.02\n",
    "\n",
    "@dataclass\n",
    "class TrainingConfig:\n",
    "    loss_fn_name: str = \"CrossEntropy\"\n",
    "    lr: float = 1e-4\n",
    "    num_epochs: int = 2000\n",
    "    batch_size: int = 256\n",
    "    warmup_steps: int = 0\n",
    "    weight_decay: float = 0.0\n",
    "    max_grad_norm = None\n",
    "    device: str = 'cuda'\n",
    "    seed: int = 0\n",
    "    optimizer_name: str = \"AdamW\"\n",
    "    scheduler_step: int = num_epochs\n",
    "    scheduler_gamma: float = .8\n",
    "    early_stopping: bool = False\n",
    "\n",
    "@dataclass\n",
    "class LoggingConfig:\n",
    "    log_dir: str = 'logs'\n",
    "    log_frequency: int = 1\n",
    "    print_every: int = 0\n",
    "    use_wandb: bool = True\n",
    "    wandb_project_name: str = 'phase_transitions'  # Added type annotation\n",
    "    wandb_team_name: str = 'perceptual-alignment'\n",
    "\n",
    "@dataclass\n",
    "class SavingConfig:\n",
    "    parent_dir: str = \"/network/scratch/s/sonia.joseph/vit_prisma\"\n",
    "    save_dir: str = 'checkpoints'\n",
    "    save_checkpoints: bool = True\n",
    "    save_cp_frequency: int = 1\n",
    "\n",
    "class ClassificationConfig:\n",
    "    num_classes: int = 16\n",
    "    global_pool: bool = False\n",
    "\n",
    "@dataclass\n",
    "class GlobalConfig():\n",
    "    image: ImageConfig = ImageConfig()\n",
    "    transformer: TransformerConfig = TransformerConfig()\n",
    "    layernorm: LayerNormConfig = LayerNormConfig()\n",
    "    dropout: DropoutConfig = DropoutConfig()\n",
    "    init: InitializationConfig = InitializationConfig()\n",
    "    training: TrainingConfig = TrainingConfig()\n",
    "    logging: LoggingConfig = LoggingConfig()\n",
    "    saving: SavingConfig = SavingConfig()\n",
    "    classification: ClassificationConfig = ClassificationConfig()\n",
    "\n"
   ]
  },
  {
   "cell_type": "markdown",
   "metadata": {},
   "source": [
    "### Global dataset\n",
    "\n",
    " Color in random number of patches. The label for the dataset is the number of patches colored in."
   ]
  },
  {
   "cell_type": "code",
   "execution_count": 3,
   "metadata": {},
   "outputs": [],
   "source": [
    "import numpy as np\n",
    "from PIL import Image\n",
    "from torch.utils.data import Dataset\n",
    "import itertools\n",
    "from torchvision import transforms\n",
    "\n",
    "class PatchDataset(Dataset):\n",
    "    def __init__(self, total_images, image_size=28, num_patches=16, transform=None):\n",
    "        # Validate inputs\n",
    "        if not np.sqrt(num_patches).is_integer():\n",
    "            raise ValueError(\"num_patches must be a perfect square\")\n",
    "        if image_size % np.sqrt(num_patches) != 0:\n",
    "            raise ValueError(\"image_size must be divisible by the square root of num_patches\")\n",
    "\n",
    "        self.total_images = total_images\n",
    "        self.image_size = image_size\n",
    "        self.num_patches = num_patches\n",
    "        self.patch_size = image_size // int(np.sqrt(num_patches))\n",
    "        self.transform = transform\n",
    "\n",
    "        self.range_start = 6\n",
    "        self.range_end = 12\n",
    "\n",
    "        # Generate all unique combinations\n",
    "        self.all_combinations = list(itertools.chain.from_iterable(\n",
    "            itertools.combinations(range(num_patches), r) for r in range(self.range_start, self.range_end)\n",
    "        ))\n",
    "\n",
    "        if self.total_images > len(self.all_combinations):\n",
    "            raise ValueError(\"Requested total images exceed the number of unique combinations available\")\n",
    "\n",
    "        # Shuffle to randomize\n",
    "        np.random.shuffle(self.all_combinations)\n",
    "\n",
    "    def __len__(self):\n",
    "        return self.total_images\n",
    "\n",
    "    def __getitem__(self, idx):\n",
    "        # Select combination based on index\n",
    "        selected_patches = self.all_combinations[idx]\n",
    "        image = self._generate_image(selected_patches)\n",
    "        label = len(selected_patches)  # Class label is the number of patches\n",
    "\n",
    "        if self.transform:\n",
    "            image = self.transform(image)\n",
    "\n",
    "        return image, label\n",
    "\n",
    "    def _generate_image(self, selected_patches):\n",
    "        image_array = np.zeros((self.image_size, self.image_size), dtype=np.uint8)\n",
    "        num_patch_side = int(np.sqrt(self.num_patches))\n",
    "\n",
    "        for patch_index in selected_patches:\n",
    "            row, col = divmod(patch_index, num_patch_side)\n",
    "            image_array[row * self.patch_size:(row + 1) * self.patch_size, col * self.patch_size:(col + 1) * self.patch_size] = 255\n",
    "\n",
    "        return Image.fromarray(image_array, 'L')\n",
    "\n",
    "# Example usage\n",
    "total_images = 10000  # Adjust as needed\n",
    "transform = transforms.ToTensor()\n",
    "\n",
    "patch_dataset = PatchDataset(total_images=total_images, image_size=IMAGE_SIZE, transform=transform)\n",
    "\n",
    "# Balance dataset to have number of classes as smallest class\n",
    "\n",
    "# Initialize a Counter to count class occurrences\n",
    "class_counts = Counter()\n",
    "# Iterate over the dataset and count classes\n",
    "for _, label in patch_dataset:\n",
    "    class_counts[label] += 1\n",
    "\n",
    "min_class_size = min(class_counts.values())\n",
    "\n",
    "\n",
    "balanced_global_dataset = []\n",
    "\n",
    "# Iterate over each class and add a random sample of images to the balanced dataset\n",
    "for class_label in range(patch_dataset.range_start, patch_dataset.range_end):\n",
    "    # Filter images of the current class\n",
    "    class_images = [(image, label) for image, label in patch_dataset if label == class_label]\n",
    "    \n",
    "    # Randomly sample images from this class\n",
    "    balanced_images = random.sample(class_images, min_class_size)\n",
    "    \n",
    "    balanced_global_dataset.extend(balanced_images)\n",
    "\n",
    "# Shuffle the balanced dataset\n",
    "random.shuffle(balanced_global_dataset)\n",
    "\n",
    "# Now balanced_global_dataset contains a balanced number of images for each class\n"
   ]
  },
  {
   "cell_type": "code",
   "execution_count": 4,
   "metadata": {},
   "outputs": [
    {
     "data": {
      "text/plain": [
       "Counter({8: 4368, 11: 4368, 9: 4368, 7: 4368, 10: 4368, 6: 4368})"
      ]
     },
     "execution_count": 4,
     "metadata": {},
     "output_type": "execute_result"
    }
   ],
   "source": [
    "class_counts = Counter()\n",
    "for _, label in balanced_global_dataset:\n",
    "    class_counts[label] += 1\n",
    "\n",
    "class_counts"
   ]
  },
  {
   "cell_type": "code",
   "execution_count": 5,
   "metadata": {},
   "outputs": [
    {
     "data": {
      "image/png": "[encoded data removed]",
      "text/plain": [
       "<Figure size 2000x200 with 20 Axes>"
      ]
     },
     "metadata": {},
     "output_type": "display_data"
    }
   ],
   "source": [
    "import matplotlib.pyplot as plt\n",
    "# import transform\n",
    "from torchvision import transforms\n",
    "\n",
    "\n",
    "# Plotting the images in a line\n",
    "num_images=20\n",
    "fig, axes = plt.subplots(1, num_images, figsize=(20, 2))\n",
    "\n",
    "for i in range(num_images):\n",
    "    custom_image, custom_label = balanced_global_dataset[i]\n",
    "    axes[i].imshow(custom_image[0], cmap='gray')\n",
    "    axes[i].set_title(f'Label: {custom_label}')\n",
    "    axes[i].axis('off')\n"
   ]
  },
  {
   "cell_type": "markdown",
   "metadata": {},
   "source": [
    "### Local dataset"
   ]
  },
  {
   "cell_type": "code",
   "execution_count": 9,
   "metadata": {},
   "outputs": [
    {
     "name": "stdout",
     "output_type": "stream",
     "text": [
      "Counter({1: 1120, 3: 1058, 7: 1052, 9: 1011, 2: 1006, 8: 999, 6: 982, 0: 955, 4: 926, 5: 891})\n"
     ]
    }
   ],
   "source": [
    "import numpy as np\n",
    "from PIL import Image\n",
    "from torch.utils.data import Dataset\n",
    "import torchvision.datasets as datasets\n",
    "import torchvision.transforms as transforms\n",
    "import random\n",
    "\n",
    "class LocalPatchDataset(Dataset):\n",
    "    def __init__(self, total_images, mnist_dataset, image_size=28, num_patches=16, transform=None):\n",
    "        self.total_images = total_images\n",
    "        self.mnist_dataset = mnist_dataset\n",
    "        self.image_size = image_size\n",
    "        self.num_patches = num_patches\n",
    "        self.patch_size = image_size // int(np.sqrt(num_patches))\n",
    "        self.transform = transform\n",
    "\n",
    "    def __len__(self):\n",
    "        return self.total_images\n",
    "\n",
    "    def __getitem__(self, idx):\n",
    "        image, label = self._generate_image()\n",
    "        \n",
    "        if self.transform:\n",
    "            image = self.transform(image)\n",
    "\n",
    "        return image, label\n",
    "\n",
    "    def _generate_image(self):\n",
    "        image_array = np.zeros((self.image_size, self.image_size), dtype=np.uint8)\n",
    "        num_patch_side = int(np.sqrt(self.num_patches))\n",
    "\n",
    "        # Randomly choose a patch to place an MNIST digit\n",
    "        # Randomly choose a patch to place an MNIST digit\n",
    "        mnist_index = random.randint(0, len(self.mnist_dataset) - 1)\n",
    "        mnist_digit, label = self.mnist_dataset[mnist_index]\n",
    "        mnist_digit = np.array(mnist_digit) * 255  # Rescale to 0-255 and convert to uint8\n",
    "        mnist_digit = mnist_digit.astype(np.uint8)\n",
    "\n",
    "        patch_x, patch_y = random.randint(0, num_patch_side - 1), random.randint(0, num_patch_side - 1)\n",
    "        x_start, y_start = patch_x * self.patch_size, patch_y * self.patch_size\n",
    "\n",
    "        # Place the MNIST digit into the selected patch\n",
    "        image_array[x_start:x_start+self.patch_size, y_start:y_start+self.patch_size] = mnist_digit\n",
    "\n",
    "        return Image.fromarray(image_array, 'L'), label\n",
    "\n",
    "# Load MNIST Dataset\n",
    "mnist_transform = transforms.Compose([transforms.Resize((56, 56)), transforms.ToTensor()])\n",
    "# add to transforms to rescale pixel values to \n",
    "mnist_dataset = datasets.MNIST(root='./data', train=True, download=True, transform=mnist_transform)\n",
    "\n",
    "# Example usage\n",
    "local_patch_dataset = LocalPatchDataset(total_images=total_images, mnist_dataset=mnist_dataset, image_size=224, transform=transform)\n",
    "\n",
    "# Count classes\n",
    "class_counts = Counter()\n",
    "for i in range(total_images):\n",
    "    label = local_patch_dataset[i][1]\n",
    "    class_counts[label] += 1\n",
    "print(class_counts)\n"
   ]
  },
  {
   "cell_type": "code",
   "execution_count": 10,
   "metadata": {},
   "outputs": [
    {
     "data": {
      "image/png": "[encoded data removed]",
      "text/plain": [
       "<Figure size 2000x200 with 10 Axes>"
      ]
     },
     "metadata": {},
     "output_type": "display_data"
    }
   ],
   "source": [
    "fig, axes = plt.subplots(1, 10, figsize=(20, 2))\n",
    "for i in range(10):\n",
    "    image, label = local_patch_dataset[i]\n",
    "    axes[i].imshow(image[0], cmap='gray')\n",
    "    axes[i].set_title(f'Label: {label}')\n",
    "    axes[i].axis('off')\n",
    "\n",
    "plt.show()"
   ]
  },
  {
   "cell_type": "markdown",
   "metadata": {},
   "source": [
    "## Train"
   ]
  },
  {
   "cell_type": "code",
   "execution_count": 11,
   "metadata": {},
   "outputs": [
    {
     "name": "stderr",
     "output_type": "stream",
     "text": [
      "Failed to detect the name of this notebook, you can set it manually with the WANDB_NOTEBOOK_NAME environment variable to enable code saving.\n"
     ]
    },
    {
     "name": "stdout",
     "output_type": "stream",
     "text": [
      "Split train dataset into train and val with 8000 and 2000.\n"
     ]
    },
    {
     "name": "stderr",
     "output_type": "stream",
     "text": [
      "\u001b[34m\u001b[1mwandb\u001b[0m: Currently logged in as: \u001b[33msoniajoseph\u001b[0m (\u001b[33mperceptual-alignment\u001b[0m). Use \u001b[1m`wandb login --relogin`\u001b[0m to force relogin\n"
     ]
    },
    {
     "data": {
      "text/html": [
       "wandb version 0.16.2 is available!  To upgrade, please run:\n",
       " $ pip install wandb --upgrade"
      ],
      "text/plain": [
       "<IPython.core.display.HTML object>"
      ]
     },
     "metadata": {},
     "output_type": "display_data"
    },
    {
     "data": {
      "text/html": [
       "Tracking run with wandb version 0.13.11"
      ],
      "text/plain": [
       "<IPython.core.display.HTML object>"
      ]
     },
     "metadata": {},
     "output_type": "display_data"
    },
    {
     "data": {
      "text/html": [
       "Run data is saved locally in <code>/home/mila/s/sonia.joseph/ViT-Planetarium/my_draft/phase_transitions/wandb/run-20240109_174342-yjs5sfq9</code>"
      ],
      "text/plain": [
       "<IPython.core.display.HTML object>"
      ]
     },
     "metadata": {},
     "output_type": "display_data"
    },
    {
     "data": {
      "text/html": [
       "Syncing run <strong><a href='https://wandb.ai/perceptual-alignment/phase_transitions/runs/yjs5sfq9' target=\"_blank\">denim-durian-13</a></strong> to <a href='https://wandb.ai/perceptual-alignment/phase_transitions' target=\"_blank\">Weights & Biases</a> (<a href='https://wandb.me/run' target=\"_blank\">docs</a>)<br/>"
      ],
      "text/plain": [
       "<IPython.core.display.HTML object>"
      ]
     },
     "metadata": {},
     "output_type": "display_data"
    },
    {
     "data": {
      "text/html": [
       " View project at <a href='https://wandb.ai/perceptual-alignment/phase_transitions' target=\"_blank\">https://wandb.ai/perceptual-alignment/phase_transitions</a>"
      ],
      "text/plain": [
       "<IPython.core.display.HTML object>"
      ]
     },
     "metadata": {},
     "output_type": "display_data"
    },
    {
     "data": {
      "text/html": [
       " View run at <a href='https://wandb.ai/perceptual-alignment/phase_transitions/runs/yjs5sfq9' target=\"_blank\">https://wandb.ai/perceptual-alignment/phase_transitions/runs/yjs5sfq9</a>"
      ],
      "text/plain": [
       "<IPython.core.display.HTML object>"
      ]
     },
     "metadata": {},
     "output_type": "display_data"
    },
    {
     "name": "stdout",
     "output_type": "stream",
     "text": [
      "Config is: GlobalConfig(image=ImageConfig(image_size=224, patch_size=56, n_channels=1), transformer=TransformerConfig(hidden_dim=128, num_heads=4, num_layers=1, mlp_dim=512, activation_name='GELU', attention_only=False, attn_hidden_layer=True), layernorm=LayerNormConfig(qknorm=False, layer_norm_eps=0.0), dropout=DropoutConfig(patch=0.0, position=0.0, attention=0.0, proj=0.0, mlp=0.0), init=InitializationConfig(weight_type='he', cls_std=1e-06, pos_std=0.02), training=TrainingConfig(loss_fn_name='CrossEntropy', lr=0.0001, num_epochs=2000, batch_size=256, warmup_steps=0, weight_decay=0.0, device='cuda', seed=0, optimizer_name='AdamW', scheduler_step=2000, scheduler_gamma=0.8, early_stopping=False), logging=LoggingConfig(log_dir='logs', log_frequency=1, print_every=0, use_wandb=True, wandb_project_name='phase_transitions', wandb_team_name='perceptual-alignment'), saving=SavingConfig(parent_dir='/network/scratch/s/sonia.joseph/vit_prisma', save_dir='checkpoints', save_checkpoints=True, save_cp_frequency=1), classification=<__main__.ClassificationConfig object at 0x7f88d2630390>)\n",
      "Length of trainloader 32.\n",
      "Length of testloader 8\n"
     ]
    },
    {
     "data": {
      "application/vnd.jupyter.widget-view+json": {
       "model_id": "0fdb7bb3cfdd46b392466ba8708ce80f",
       "version_major": 2,
       "version_minor": 0
      },
      "text/plain": [
       "  0%|          | 0/2000 [00:00<?, ?it/s]"
      ]
     },
     "metadata": {},
     "output_type": "display_data"
    },
    {
     "name": "stdout",
     "output_type": "stream",
     "text": [
      "Steps0 | Train loss: 0.011111 | Train acc: 0.12012 | Test loss: 0.011117 | Test acc: 0.11400\n",
      "Steps1 | Train loss: 0.011008 | Train acc: 0.18288 | Test loss: 0.011016 | Test acc: 0.17450\n",
      "Steps2 | Train loss: 0.010905 | Train acc: 0.26550 | Test loss: 0.010915 | Test acc: 0.24450\n",
      "Steps3 | Train loss: 0.010804 | Train acc: 0.30075 | Test loss: 0.010815 | Test acc: 0.27800\n",
      "Steps4 | Train loss: 0.010705 | Train acc: 0.32500 | Test loss: 0.010716 | Test acc: 0.30500\n",
      "Steps5 | Train loss: 0.010601 | Train acc: 0.34763 | Test loss: 0.010615 | Test acc: 0.33000\n",
      "Steps6 | Train loss: 0.010497 | Train acc: 0.36412 | Test loss: 0.010514 | Test acc: 0.34500\n",
      "Steps7 | Train loss: 0.010395 | Train acc: 0.37975 | Test loss: 0.010411 | Test acc: 0.35850\n",
      "Steps8 | Train loss: 0.010286 | Train acc: 0.38812 | Test loss: 0.010306 | Test acc: 0.36950\n",
      "Steps9 | Train loss: 0.010177 | Train acc: 0.39663 | Test loss: 0.010199 | Test acc: 0.36950\n",
      "Steps10 | Train loss: 0.010064 | Train acc: 0.39850 | Test loss: 0.010089 | Test acc: 0.37650\n",
      "Steps11 | Train loss: 0.009953 | Train acc: 0.40450 | Test loss: 0.009977 | Test acc: 0.38500\n",
      "Steps12 | Train loss: 0.009834 | Train acc: 0.39937 | Test loss: 0.009862 | Test acc: 0.38600\n",
      "Steps13 | Train loss: 0.009716 | Train acc: 0.39075 | Test loss: 0.009746 | Test acc: 0.37200\n",
      "Steps14 | Train loss: 0.009598 | Train acc: 0.39337 | Test loss: 0.009628 | Test acc: 0.37650\n",
      "Steps15 | Train loss: 0.009474 | Train acc: 0.39625 | Test loss: 0.009507 | Test acc: 0.38300\n",
      "Steps16 | Train loss: 0.009354 | Train acc: 0.39325 | Test loss: 0.009383 | Test acc: 0.38400\n",
      "Steps17 | Train loss: 0.009216 | Train acc: 0.39675 | Test loss: 0.009258 | Test acc: 0.38600\n",
      "Steps18 | Train loss: 0.009089 | Train acc: 0.40450 | Test loss: 0.009129 | Test acc: 0.39000\n",
      "Steps19 | Train loss: 0.008961 | Train acc: 0.41287 | Test loss: 0.008998 | Test acc: 0.40150\n",
      "Steps20 | Train loss: 0.008823 | Train acc: 0.41750 | Test loss: 0.008866 | Test acc: 0.40900\n",
      "Steps21 | Train loss: 0.008690 | Train acc: 0.41375 | Test loss: 0.008733 | Test acc: 0.40400\n",
      "Steps22 | Train loss: 0.008549 | Train acc: 0.41675 | Test loss: 0.008596 | Test acc: 0.41400\n",
      "Steps23 | Train loss: 0.008406 | Train acc: 0.42938 | Test loss: 0.008457 | Test acc: 0.42850\n",
      "Steps24 | Train loss: 0.008266 | Train acc: 0.45150 | Test loss: 0.008314 | Test acc: 0.44850\n",
      "Steps25 | Train loss: 0.008110 | Train acc: 0.47900 | Test loss: 0.008167 | Test acc: 0.47350\n",
      "Steps26 | Train loss: 0.007963 | Train acc: 0.50625 | Test loss: 0.008019 | Test acc: 0.50200\n",
      "Steps27 | Train loss: 0.007807 | Train acc: 0.53587 | Test loss: 0.007868 | Test acc: 0.52450\n",
      "Steps28 | Train loss: 0.007664 | Train acc: 0.56325 | Test loss: 0.007714 | Test acc: 0.54950\n",
      "Steps29 | Train loss: 0.007502 | Train acc: 0.59350 | Test loss: 0.007559 | Test acc: 0.58000\n",
      "Steps30 | Train loss: 0.007348 | Train acc: 0.61038 | Test loss: 0.007404 | Test acc: 0.60050\n",
      "Steps31 | Train loss: 0.007195 | Train acc: 0.62450 | Test loss: 0.007250 | Test acc: 0.62000\n",
      "Steps32 | Train loss: 0.007039 | Train acc: 0.63375 | Test loss: 0.007099 | Test acc: 0.63100\n",
      "Steps33 | Train loss: 0.006886 | Train acc: 0.64187 | Test loss: 0.006948 | Test acc: 0.63600\n",
      "Steps34 | Train loss: 0.006740 | Train acc: 0.64912 | Test loss: 0.006795 | Test acc: 0.64150\n",
      "Steps35 | Train loss: 0.006564 | Train acc: 0.65500 | Test loss: 0.006642 | Test acc: 0.65050\n",
      "Steps36 | Train loss: 0.006420 | Train acc: 0.65763 | Test loss: 0.006491 | Test acc: 0.65050\n",
      "Steps37 | Train loss: 0.006283 | Train acc: 0.66038 | Test loss: 0.006340 | Test acc: 0.65400\n",
      "Steps38 | Train loss: 0.006118 | Train acc: 0.66338 | Test loss: 0.006189 | Test acc: 0.65700\n",
      "Steps39 | Train loss: 0.005970 | Train acc: 0.66187 | Test loss: 0.006040 | Test acc: 0.65850\n",
      "Steps40 | Train loss: 0.005812 | Train acc: 0.66638 | Test loss: 0.005890 | Test acc: 0.66100\n",
      "Steps41 | Train loss: 0.005661 | Train acc: 0.67437 | Test loss: 0.005741 | Test acc: 0.66750\n",
      "Steps42 | Train loss: 0.005513 | Train acc: 0.67863 | Test loss: 0.005594 | Test acc: 0.67000\n",
      "Steps43 | Train loss: 0.005369 | Train acc: 0.68763 | Test loss: 0.005447 | Test acc: 0.67600\n",
      "Steps44 | Train loss: 0.005219 | Train acc: 0.69563 | Test loss: 0.005304 | Test acc: 0.68250\n",
      "Steps45 | Train loss: 0.005070 | Train acc: 0.70050 | Test loss: 0.005165 | Test acc: 0.68850\n",
      "Steps46 | Train loss: 0.004934 | Train acc: 0.70800 | Test loss: 0.005029 | Test acc: 0.69350\n",
      "Steps47 | Train loss: 0.004798 | Train acc: 0.71388 | Test loss: 0.004896 | Test acc: 0.69950\n",
      "Steps48 | Train loss: 0.004660 | Train acc: 0.71737 | Test loss: 0.004767 | Test acc: 0.70600\n",
      "Steps49 | Train loss: 0.004536 | Train acc: 0.71925 | Test loss: 0.004641 | Test acc: 0.70750\n",
      "Steps50 | Train loss: 0.004425 | Train acc: 0.71950 | Test loss: 0.004516 | Test acc: 0.71500\n",
      "Steps51 | Train loss: 0.004271 | Train acc: 0.72225 | Test loss: 0.004395 | Test acc: 0.71200\n",
      "Steps52 | Train loss: 0.004162 | Train acc: 0.72588 | Test loss: 0.004275 | Test acc: 0.71600\n",
      "Steps53 | Train loss: 0.004042 | Train acc: 0.73250 | Test loss: 0.004158 | Test acc: 0.72150\n",
      "Steps54 | Train loss: 0.003943 | Train acc: 0.74125 | Test loss: 0.004042 | Test acc: 0.72800\n",
      "Steps55 | Train loss: 0.003813 | Train acc: 0.74462 | Test loss: 0.003933 | Test acc: 0.72950\n",
      "Steps56 | Train loss: 0.003706 | Train acc: 0.74787 | Test loss: 0.003827 | Test acc: 0.73600\n",
      "Steps57 | Train loss: 0.003618 | Train acc: 0.75675 | Test loss: 0.003720 | Test acc: 0.74050\n",
      "Steps58 | Train loss: 0.003518 | Train acc: 0.76850 | Test loss: 0.003617 | Test acc: 0.75200\n",
      "Steps59 | Train loss: 0.003425 | Train acc: 0.77612 | Test loss: 0.003521 | Test acc: 0.76000\n",
      "Steps60 | Train loss: 0.003333 | Train acc: 0.78100 | Test loss: 0.003428 | Test acc: 0.76450\n",
      "Steps61 | Train loss: 0.003248 | Train acc: 0.78787 | Test loss: 0.003340 | Test acc: 0.76550\n",
      "Steps62 | Train loss: 0.003162 | Train acc: 0.79275 | Test loss: 0.003255 | Test acc: 0.77550\n",
      "Steps63 | Train loss: 0.003076 | Train acc: 0.79587 | Test loss: 0.003173 | Test acc: 0.77950\n",
      "Steps64 | Train loss: 0.002992 | Train acc: 0.80000 | Test loss: 0.003104 | Test acc: 0.77450\n",
      "Steps65 | Train loss: 0.002951 | Train acc: 0.79988 | Test loss: 0.003050 | Test acc: 0.77250\n",
      "Steps66 | Train loss: 0.002885 | Train acc: 0.80075 | Test loss: 0.002993 | Test acc: 0.77250\n",
      "Steps67 | Train loss: 0.002836 | Train acc: 0.80100 | Test loss: 0.002938 | Test acc: 0.77800\n",
      "Steps68 | Train loss: 0.002769 | Train acc: 0.80525 | Test loss: 0.002875 | Test acc: 0.78500\n",
      "Steps69 | Train loss: 0.002708 | Train acc: 0.81100 | Test loss: 0.002801 | Test acc: 0.79200\n",
      "Steps70 | Train loss: 0.002654 | Train acc: 0.81388 | Test loss: 0.002731 | Test acc: 0.80250\n",
      "Steps71 | Train loss: 0.002590 | Train acc: 0.81625 | Test loss: 0.002675 | Test acc: 0.80350\n",
      "Steps72 | Train loss: 0.002538 | Train acc: 0.81725 | Test loss: 0.002620 | Test acc: 0.80350\n",
      "Steps73 | Train loss: 0.002486 | Train acc: 0.82250 | Test loss: 0.002568 | Test acc: 0.80700\n",
      "Steps74 | Train loss: 0.002449 | Train acc: 0.82350 | Test loss: 0.002528 | Test acc: 0.81200\n",
      "Steps75 | Train loss: 0.002408 | Train acc: 0.82650 | Test loss: 0.002497 | Test acc: 0.81400\n",
      "Steps76 | Train loss: 0.002350 | Train acc: 0.83088 | Test loss: 0.002462 | Test acc: 0.81600\n",
      "Steps77 | Train loss: 0.002321 | Train acc: 0.83300 | Test loss: 0.002435 | Test acc: 0.81150\n",
      "Steps78 | Train loss: 0.002297 | Train acc: 0.83488 | Test loss: 0.002403 | Test acc: 0.81350\n",
      "Steps79 | Train loss: 0.002272 | Train acc: 0.83762 | Test loss: 0.002370 | Test acc: 0.81900\n",
      "Steps80 | Train loss: 0.002253 | Train acc: 0.84200 | Test loss: 0.002327 | Test acc: 0.82950\n",
      "Steps81 | Train loss: 0.002195 | Train acc: 0.84450 | Test loss: 0.002289 | Test acc: 0.83400\n",
      "Steps82 | Train loss: 0.002172 | Train acc: 0.84662 | Test loss: 0.002250 | Test acc: 0.83650\n",
      "Steps83 | Train loss: 0.002158 | Train acc: 0.84775 | Test loss: 0.002212 | Test acc: 0.84250\n",
      "Steps84 | Train loss: 0.002105 | Train acc: 0.84900 | Test loss: 0.002175 | Test acc: 0.84100\n",
      "Steps85 | Train loss: 0.002080 | Train acc: 0.85100 | Test loss: 0.002138 | Test acc: 0.84350\n",
      "Steps86 | Train loss: 0.002040 | Train acc: 0.85437 | Test loss: 0.002106 | Test acc: 0.84550\n",
      "Steps87 | Train loss: 0.002007 | Train acc: 0.85637 | Test loss: 0.002073 | Test acc: 0.84400\n",
      "Steps88 | Train loss: 0.002005 | Train acc: 0.85550 | Test loss: 0.002059 | Test acc: 0.84800\n",
      "Steps89 | Train loss: 0.001991 | Train acc: 0.85362 | Test loss: 0.002058 | Test acc: 0.84250\n",
      "Steps90 | Train loss: 0.001983 | Train acc: 0.85688 | Test loss: 0.002027 | Test acc: 0.84850\n",
      "Steps91 | Train loss: 0.001933 | Train acc: 0.86100 | Test loss: 0.001993 | Test acc: 0.85950\n",
      "Steps92 | Train loss: 0.001908 | Train acc: 0.86587 | Test loss: 0.001953 | Test acc: 0.86200\n",
      "Steps93 | Train loss: 0.001883 | Train acc: 0.86925 | Test loss: 0.001916 | Test acc: 0.87050\n",
      "Steps94 | Train loss: 0.001876 | Train acc: 0.87262 | Test loss: 0.001903 | Test acc: 0.86950\n",
      "Steps95 | Train loss: 0.001854 | Train acc: 0.87275 | Test loss: 0.001899 | Test acc: 0.86500\n",
      "Steps96 | Train loss: 0.001855 | Train acc: 0.87200 | Test loss: 0.001902 | Test acc: 0.86300\n",
      "Steps97 | Train loss: 0.001840 | Train acc: 0.87687 | Test loss: 0.001899 | Test acc: 0.86800\n",
      "Steps98 | Train loss: 0.001811 | Train acc: 0.87762 | Test loss: 0.001902 | Test acc: 0.87200\n",
      "Steps99 | Train loss: 0.001809 | Train acc: 0.87738 | Test loss: 0.001911 | Test acc: 0.87050\n",
      "Steps100 | Train loss: 0.001765 | Train acc: 0.87938 | Test loss: 0.001891 | Test acc: 0.86800\n",
      "Steps101 | Train loss: 0.001756 | Train acc: 0.87625 | Test loss: 0.001876 | Test acc: 0.86500\n",
      "Steps102 | Train loss: 0.001741 | Train acc: 0.87438 | Test loss: 0.001867 | Test acc: 0.86450\n",
      "Steps103 | Train loss: 0.001733 | Train acc: 0.87438 | Test loss: 0.001857 | Test acc: 0.86250\n",
      "Steps104 | Train loss: 0.001751 | Train acc: 0.87562 | Test loss: 0.001837 | Test acc: 0.86600\n",
      "Steps105 | Train loss: 0.001744 | Train acc: 0.87575 | Test loss: 0.001809 | Test acc: 0.86950\n",
      "Steps106 | Train loss: 0.001714 | Train acc: 0.87950 | Test loss: 0.001780 | Test acc: 0.87000\n",
      "Steps107 | Train loss: 0.001694 | Train acc: 0.88275 | Test loss: 0.001759 | Test acc: 0.87500\n",
      "Steps108 | Train loss: 0.001671 | Train acc: 0.88450 | Test loss: 0.001741 | Test acc: 0.87850\n",
      "Steps109 | Train loss: 0.001669 | Train acc: 0.88338 | Test loss: 0.001742 | Test acc: 0.87700\n",
      "Steps110 | Train loss: 0.001675 | Train acc: 0.88362 | Test loss: 0.001757 | Test acc: 0.87650\n",
      "Steps111 | Train loss: 0.001661 | Train acc: 0.88400 | Test loss: 0.001765 | Test acc: 0.87650\n",
      "Steps112 | Train loss: 0.001659 | Train acc: 0.88387 | Test loss: 0.001758 | Test acc: 0.87600\n",
      "Steps113 | Train loss: 0.001641 | Train acc: 0.88438 | Test loss: 0.001749 | Test acc: 0.87300\n",
      "Steps114 | Train loss: 0.001612 | Train acc: 0.88550 | Test loss: 0.001740 | Test acc: 0.87450\n",
      "Steps115 | Train loss: 0.001604 | Train acc: 0.88875 | Test loss: 0.001718 | Test acc: 0.87800\n",
      "Steps116 | Train loss: 0.001549 | Train acc: 0.89150 | Test loss: 0.001685 | Test acc: 0.88050\n",
      "Steps117 | Train loss: 0.001552 | Train acc: 0.89238 | Test loss: 0.001672 | Test acc: 0.88300\n",
      "Steps118 | Train loss: 0.001578 | Train acc: 0.88913 | Test loss: 0.001681 | Test acc: 0.87950\n",
      "Steps119 | Train loss: 0.001617 | Train acc: 0.88513 | Test loss: 0.001708 | Test acc: 0.87650\n",
      "Steps120 | Train loss: 0.001637 | Train acc: 0.88300 | Test loss: 0.001720 | Test acc: 0.87300\n",
      "Steps121 | Train loss: 0.001599 | Train acc: 0.88675 | Test loss: 0.001691 | Test acc: 0.87750\n",
      "Steps122 | Train loss: 0.001558 | Train acc: 0.89312 | Test loss: 0.001649 | Test acc: 0.88300\n",
      "Steps123 | Train loss: 0.001546 | Train acc: 0.89700 | Test loss: 0.001620 | Test acc: 0.88900\n",
      "Steps124 | Train loss: 0.001501 | Train acc: 0.89950 | Test loss: 0.001620 | Test acc: 0.88800\n",
      "Steps125 | Train loss: 0.001514 | Train acc: 0.89812 | Test loss: 0.001642 | Test acc: 0.88900\n",
      "Steps126 | Train loss: 0.001543 | Train acc: 0.89412 | Test loss: 0.001671 | Test acc: 0.88250\n",
      "Steps127 | Train loss: 0.001552 | Train acc: 0.89438 | Test loss: 0.001672 | Test acc: 0.88100\n",
      "Steps128 | Train loss: 0.001536 | Train acc: 0.89375 | Test loss: 0.001668 | Test acc: 0.87900\n",
      "Steps129 | Train loss: 0.001555 | Train acc: 0.89087 | Test loss: 0.001692 | Test acc: 0.87900\n",
      "Steps130 | Train loss: 0.001564 | Train acc: 0.89000 | Test loss: 0.001707 | Test acc: 0.87700\n",
      "Steps131 | Train loss: 0.001576 | Train acc: 0.88638 | Test loss: 0.001728 | Test acc: 0.87350\n",
      "Steps132 | Train loss: 0.001601 | Train acc: 0.88613 | Test loss: 0.001731 | Test acc: 0.87250\n",
      "Steps133 | Train loss: 0.001572 | Train acc: 0.88875 | Test loss: 0.001702 | Test acc: 0.87850\n",
      "Steps134 | Train loss: 0.001496 | Train acc: 0.89338 | Test loss: 0.001636 | Test acc: 0.88050\n",
      "Steps135 | Train loss: 0.001452 | Train acc: 0.89587 | Test loss: 0.001601 | Test acc: 0.88600\n",
      "Steps136 | Train loss: 0.001464 | Train acc: 0.89775 | Test loss: 0.001602 | Test acc: 0.88600\n",
      "Steps137 | Train loss: 0.001492 | Train acc: 0.89550 | Test loss: 0.001628 | Test acc: 0.88000\n",
      "Steps138 | Train loss: 0.001485 | Train acc: 0.89312 | Test loss: 0.001643 | Test acc: 0.87700\n",
      "Steps139 | Train loss: 0.001479 | Train acc: 0.89387 | Test loss: 0.001642 | Test acc: 0.87650\n",
      "Steps140 | Train loss: 0.001479 | Train acc: 0.89363 | Test loss: 0.001640 | Test acc: 0.87800\n",
      "Steps141 | Train loss: 0.001458 | Train acc: 0.89450 | Test loss: 0.001634 | Test acc: 0.88300\n",
      "Steps142 | Train loss: 0.001467 | Train acc: 0.89700 | Test loss: 0.001617 | Test acc: 0.88350\n",
      "Steps143 | Train loss: 0.001457 | Train acc: 0.89738 | Test loss: 0.001603 | Test acc: 0.88550\n",
      "Steps144 | Train loss: 0.001435 | Train acc: 0.90012 | Test loss: 0.001585 | Test acc: 0.88850\n",
      "Steps145 | Train loss: 0.001453 | Train acc: 0.90063 | Test loss: 0.001574 | Test acc: 0.88800\n",
      "Steps146 | Train loss: 0.001477 | Train acc: 0.89787 | Test loss: 0.001575 | Test acc: 0.88900\n",
      "Steps147 | Train loss: 0.001449 | Train acc: 0.89725 | Test loss: 0.001569 | Test acc: 0.88800\n",
      "Steps148 | Train loss: 0.001410 | Train acc: 0.90275 | Test loss: 0.001529 | Test acc: 0.89300\n",
      "Steps149 | Train loss: 0.001351 | Train acc: 0.90438 | Test loss: 0.001501 | Test acc: 0.89500\n",
      "Steps150 | Train loss: 0.001357 | Train acc: 0.90600 | Test loss: 0.001494 | Test acc: 0.89550\n",
      "Steps151 | Train loss: 0.001356 | Train acc: 0.90287 | Test loss: 0.001507 | Test acc: 0.89550\n",
      "Steps152 | Train loss: 0.001358 | Train acc: 0.90225 | Test loss: 0.001524 | Test acc: 0.89150\n",
      "Steps153 | Train loss: 0.001385 | Train acc: 0.90125 | Test loss: 0.001541 | Test acc: 0.88600\n",
      "Steps154 | Train loss: 0.001374 | Train acc: 0.90187 | Test loss: 0.001545 | Test acc: 0.88500\n",
      "Steps155 | Train loss: 0.001386 | Train acc: 0.90263 | Test loss: 0.001548 | Test acc: 0.88700\n",
      "Steps156 | Train loss: 0.001377 | Train acc: 0.90212 | Test loss: 0.001541 | Test acc: 0.88550\n",
      "Steps157 | Train loss: 0.001342 | Train acc: 0.90450 | Test loss: 0.001523 | Test acc: 0.88850\n",
      "Steps158 | Train loss: 0.001319 | Train acc: 0.90587 | Test loss: 0.001503 | Test acc: 0.89250\n",
      "Steps159 | Train loss: 0.001327 | Train acc: 0.90900 | Test loss: 0.001486 | Test acc: 0.89450\n",
      "Steps160 | Train loss: 0.001282 | Train acc: 0.91138 | Test loss: 0.001482 | Test acc: 0.89550\n",
      "Steps161 | Train loss: 0.001310 | Train acc: 0.91150 | Test loss: 0.001480 | Test acc: 0.89550\n",
      "Steps162 | Train loss: 0.001295 | Train acc: 0.91138 | Test loss: 0.001474 | Test acc: 0.89800\n",
      "Steps163 | Train loss: 0.001291 | Train acc: 0.91150 | Test loss: 0.001459 | Test acc: 0.89950\n",
      "Steps164 | Train loss: 0.001285 | Train acc: 0.91100 | Test loss: 0.001450 | Test acc: 0.90050\n",
      "Steps165 | Train loss: 0.001275 | Train acc: 0.91138 | Test loss: 0.001438 | Test acc: 0.90150\n",
      "Steps166 | Train loss: 0.001272 | Train acc: 0.91075 | Test loss: 0.001432 | Test acc: 0.90100\n",
      "Steps167 | Train loss: 0.001284 | Train acc: 0.91100 | Test loss: 0.001430 | Test acc: 0.89900\n",
      "Steps168 | Train loss: 0.001270 | Train acc: 0.91200 | Test loss: 0.001429 | Test acc: 0.89800\n",
      "Steps169 | Train loss: 0.001274 | Train acc: 0.91375 | Test loss: 0.001433 | Test acc: 0.89750\n",
      "Steps170 | Train loss: 0.001275 | Train acc: 0.91375 | Test loss: 0.001434 | Test acc: 0.89550\n",
      "Steps171 | Train loss: 0.001276 | Train acc: 0.91450 | Test loss: 0.001440 | Test acc: 0.89500\n",
      "Steps172 | Train loss: 0.001260 | Train acc: 0.91487 | Test loss: 0.001439 | Test acc: 0.89600\n",
      "Steps173 | Train loss: 0.001255 | Train acc: 0.91600 | Test loss: 0.001435 | Test acc: 0.90200\n",
      "Steps174 | Train loss: 0.001236 | Train acc: 0.91625 | Test loss: 0.001442 | Test acc: 0.89750\n",
      "Steps175 | Train loss: 0.001234 | Train acc: 0.91612 | Test loss: 0.001453 | Test acc: 0.89950\n",
      "Steps176 | Train loss: 0.001269 | Train acc: 0.91275 | Test loss: 0.001486 | Test acc: 0.89500\n",
      "Steps177 | Train loss: 0.001293 | Train acc: 0.90763 | Test loss: 0.001521 | Test acc: 0.89000\n",
      "Steps178 | Train loss: 0.001293 | Train acc: 0.90787 | Test loss: 0.001517 | Test acc: 0.89100\n",
      "Steps179 | Train loss: 0.001269 | Train acc: 0.91063 | Test loss: 0.001491 | Test acc: 0.89000\n",
      "Steps180 | Train loss: 0.001238 | Train acc: 0.91275 | Test loss: 0.001458 | Test acc: 0.89350\n",
      "Steps181 | Train loss: 0.001207 | Train acc: 0.91538 | Test loss: 0.001433 | Test acc: 0.89650\n",
      "Steps182 | Train loss: 0.001215 | Train acc: 0.91512 | Test loss: 0.001433 | Test acc: 0.89950\n",
      "Steps183 | Train loss: 0.001233 | Train acc: 0.91538 | Test loss: 0.001431 | Test acc: 0.89850\n",
      "Steps184 | Train loss: 0.001257 | Train acc: 0.91550 | Test loss: 0.001436 | Test acc: 0.89900\n",
      "Steps185 | Train loss: 0.001241 | Train acc: 0.91625 | Test loss: 0.001422 | Test acc: 0.89950\n",
      "Steps186 | Train loss: 0.001202 | Train acc: 0.91663 | Test loss: 0.001409 | Test acc: 0.90050\n",
      "Steps187 | Train loss: 0.001218 | Train acc: 0.91675 | Test loss: 0.001407 | Test acc: 0.89950\n",
      "Steps188 | Train loss: 0.001220 | Train acc: 0.91725 | Test loss: 0.001406 | Test acc: 0.90000\n",
      "Steps189 | Train loss: 0.001190 | Train acc: 0.91800 | Test loss: 0.001397 | Test acc: 0.90150\n",
      "Steps190 | Train loss: 0.001183 | Train acc: 0.91912 | Test loss: 0.001384 | Test acc: 0.90000\n",
      "Steps191 | Train loss: 0.001172 | Train acc: 0.91863 | Test loss: 0.001386 | Test acc: 0.90050\n",
      "Steps192 | Train loss: 0.001151 | Train acc: 0.92012 | Test loss: 0.001382 | Test acc: 0.90250\n",
      "Steps193 | Train loss: 0.001165 | Train acc: 0.92100 | Test loss: 0.001390 | Test acc: 0.90250\n",
      "Steps194 | Train loss: 0.001171 | Train acc: 0.92175 | Test loss: 0.001411 | Test acc: 0.89950\n",
      "Steps195 | Train loss: 0.001187 | Train acc: 0.91975 | Test loss: 0.001428 | Test acc: 0.89950\n",
      "Steps196 | Train loss: 0.001202 | Train acc: 0.91863 | Test loss: 0.001444 | Test acc: 0.90000\n",
      "Steps197 | Train loss: 0.001199 | Train acc: 0.91987 | Test loss: 0.001440 | Test acc: 0.89950\n",
      "Steps198 | Train loss: 0.001199 | Train acc: 0.92212 | Test loss: 0.001422 | Test acc: 0.90100\n",
      "Steps199 | Train loss: 0.001178 | Train acc: 0.92250 | Test loss: 0.001421 | Test acc: 0.90300\n",
      "Steps200 | Train loss: 0.001172 | Train acc: 0.92288 | Test loss: 0.001414 | Test acc: 0.90300\n",
      "Steps201 | Train loss: 0.001160 | Train acc: 0.92025 | Test loss: 0.001409 | Test acc: 0.90450\n",
      "Steps202 | Train loss: 0.001171 | Train acc: 0.91850 | Test loss: 0.001418 | Test acc: 0.90350\n",
      "Steps203 | Train loss: 0.001182 | Train acc: 0.91638 | Test loss: 0.001421 | Test acc: 0.90300\n",
      "Steps204 | Train loss: 0.001180 | Train acc: 0.91687 | Test loss: 0.001417 | Test acc: 0.90300\n",
      "Steps205 | Train loss: 0.001199 | Train acc: 0.91638 | Test loss: 0.001404 | Test acc: 0.90150\n",
      "Steps206 | Train loss: 0.001150 | Train acc: 0.91675 | Test loss: 0.001392 | Test acc: 0.89850\n",
      "Steps207 | Train loss: 0.001157 | Train acc: 0.92087 | Test loss: 0.001381 | Test acc: 0.90200\n",
      "Steps208 | Train loss: 0.001125 | Train acc: 0.92175 | Test loss: 0.001373 | Test acc: 0.90300\n",
      "Steps209 | Train loss: 0.001134 | Train acc: 0.92300 | Test loss: 0.001375 | Test acc: 0.90300\n",
      "Steps210 | Train loss: 0.001149 | Train acc: 0.92350 | Test loss: 0.001390 | Test acc: 0.90200\n",
      "Steps211 | Train loss: 0.001151 | Train acc: 0.92363 | Test loss: 0.001405 | Test acc: 0.90450\n",
      "Steps212 | Train loss: 0.001169 | Train acc: 0.92412 | Test loss: 0.001411 | Test acc: 0.90450\n",
      "Steps213 | Train loss: 0.001136 | Train acc: 0.92325 | Test loss: 0.001420 | Test acc: 0.90300\n",
      "Steps214 | Train loss: 0.001122 | Train acc: 0.92325 | Test loss: 0.001409 | Test acc: 0.89950\n",
      "Steps215 | Train loss: 0.001110 | Train acc: 0.92500 | Test loss: 0.001386 | Test acc: 0.90100\n",
      "Steps216 | Train loss: 0.001097 | Train acc: 0.92663 | Test loss: 0.001369 | Test acc: 0.90400\n",
      "Steps217 | Train loss: 0.001106 | Train acc: 0.92600 | Test loss: 0.001364 | Test acc: 0.90450\n",
      "Steps218 | Train loss: 0.001093 | Train acc: 0.92537 | Test loss: 0.001361 | Test acc: 0.90500\n",
      "Steps219 | Train loss: 0.001117 | Train acc: 0.92237 | Test loss: 0.001369 | Test acc: 0.90250\n",
      "Steps220 | Train loss: 0.001142 | Train acc: 0.91975 | Test loss: 0.001385 | Test acc: 0.90400\n",
      "Steps221 | Train loss: 0.001146 | Train acc: 0.91950 | Test loss: 0.001383 | Test acc: 0.90350\n",
      "Steps222 | Train loss: 0.001124 | Train acc: 0.92112 | Test loss: 0.001380 | Test acc: 0.90500\n",
      "Steps223 | Train loss: 0.001104 | Train acc: 0.92512 | Test loss: 0.001360 | Test acc: 0.90250\n",
      "Steps224 | Train loss: 0.001104 | Train acc: 0.92637 | Test loss: 0.001361 | Test acc: 0.90650\n",
      "Steps225 | Train loss: 0.001123 | Train acc: 0.92425 | Test loss: 0.001382 | Test acc: 0.90400\n"
     ]
    },
    {
     "ename": "KeyboardInterrupt",
     "evalue": "",
     "output_type": "error",
     "traceback": [
      "\u001b[0;31m---------------------------------------------------------------------------\u001b[0m",
      "\u001b[0;31mKeyboardInterrupt\u001b[0m                         Traceback (most recent call last)",
      "\u001b[0;32m/tmp/ipykernel_4507/1410544342.py\u001b[0m in \u001b[0;36m<module>\u001b[0;34m\u001b[0m\n\u001b[1;32m     11\u001b[0m \u001b[0;34m\u001b[0m\u001b[0m\n\u001b[1;32m     12\u001b[0m \u001b[0;31m# trainer.train(model_function, config, balanced_global_dataset)\u001b[0m\u001b[0;34m\u001b[0m\u001b[0;34m\u001b[0m\u001b[0;34m\u001b[0m\u001b[0m\n\u001b[0;32m---> 13\u001b[0;31m \u001b[0mtrainer\u001b[0m\u001b[0;34m.\u001b[0m\u001b[0mtrain\u001b[0m\u001b[0;34m(\u001b[0m\u001b[0mmodel_function\u001b[0m\u001b[0;34m,\u001b[0m \u001b[0mconfig\u001b[0m\u001b[0;34m,\u001b[0m \u001b[0mlocal_patch_dataset\u001b[0m\u001b[0;34m)\u001b[0m\u001b[0;34m\u001b[0m\u001b[0;34m\u001b[0m\u001b[0m\n\u001b[0m\u001b[1;32m     14\u001b[0m \u001b[0;34m\u001b[0m\u001b[0m\n",
      "\u001b[0;32m~/ViT-Planetarium/src/vit_prisma/training/trainer.py\u001b[0m in \u001b[0;36mtrain\u001b[0;34m(model_function, config, train_dataset, val_dataset, checkpoint_path)\u001b[0m\n\u001b[1;32m     90\u001b[0m                     \u001b[0mtqdm\u001b[0m\u001b[0;34m.\u001b[0m\u001b[0mwrite\u001b[0m\u001b[0;34m(\u001b[0m\u001b[0;34mf\"Steps{steps} | Train loss: {train_loss:.6f} | Test loss: {test_loss:.6f}\"\u001b[0m\u001b[0;34m)\u001b[0m\u001b[0;34m\u001b[0m\u001b[0;34m\u001b[0m\u001b[0m\n\u001b[1;32m     91\u001b[0m                 \u001b[0;32melse\u001b[0m\u001b[0;34m:\u001b[0m\u001b[0;34m\u001b[0m\u001b[0;34m\u001b[0m\u001b[0m\n\u001b[0;32m---> 92\u001b[0;31m                     \u001b[0mtrain_acc\u001b[0m \u001b[0;34m=\u001b[0m \u001b[0mcalculate_accuracy\u001b[0m\u001b[0;34m(\u001b[0m\u001b[0mmodel\u001b[0m\u001b[0;34m,\u001b[0m \u001b[0mtrain_loader\u001b[0m\u001b[0;34m,\u001b[0m \u001b[0mconfig\u001b[0m\u001b[0;34m.\u001b[0m\u001b[0mtraining\u001b[0m\u001b[0;34m.\u001b[0m\u001b[0mdevice\u001b[0m\u001b[0;34m)\u001b[0m\u001b[0;34m\u001b[0m\u001b[0;34m\u001b[0m\u001b[0m\n\u001b[0m\u001b[1;32m     93\u001b[0m                     \u001b[0mtest_acc\u001b[0m \u001b[0;34m=\u001b[0m \u001b[0mcalculate_accuracy\u001b[0m\u001b[0;34m(\u001b[0m\u001b[0mmodel\u001b[0m\u001b[0;34m,\u001b[0m \u001b[0mtest_loader\u001b[0m\u001b[0;34m,\u001b[0m \u001b[0mconfig\u001b[0m\u001b[0;34m.\u001b[0m\u001b[0mtraining\u001b[0m\u001b[0;34m.\u001b[0m\u001b[0mdevice\u001b[0m\u001b[0;34m)\u001b[0m\u001b[0;34m\u001b[0m\u001b[0;34m\u001b[0m\u001b[0m\n\u001b[1;32m     94\u001b[0m                     \u001b[0mtqdm\u001b[0m\u001b[0;34m.\u001b[0m\u001b[0mwrite\u001b[0m\u001b[0;34m(\u001b[0m\u001b[0;34mf\"Steps{steps} | Train loss: {train_loss:.6f} | Train acc: {train_acc:.5f} | Test loss: {test_loss:.6f} | Test acc: {test_acc:.5f}\"\u001b[0m\u001b[0;34m)\u001b[0m\u001b[0;34m\u001b[0m\u001b[0;34m\u001b[0m\u001b[0m\n",
      "\u001b[0;32m~/ViT-Planetarium/src/vit_prisma/training/training_utils.py\u001b[0m in \u001b[0;36mcalculate_accuracy\u001b[0;34m(net, data_loader, device, N, batch_size)\u001b[0m\n\u001b[1;32m     14\u001b[0m         \u001b[0;32mfor\u001b[0m \u001b[0mitems\u001b[0m \u001b[0;32min\u001b[0m \u001b[0mislice\u001b[0m\u001b[0;34m(\u001b[0m\u001b[0mdata_loader\u001b[0m\u001b[0;34m,\u001b[0m \u001b[0mN\u001b[0m \u001b[0;34m//\u001b[0m \u001b[0mbatch_size\u001b[0m\u001b[0;34m)\u001b[0m\u001b[0;34m:\u001b[0m\u001b[0;34m\u001b[0m\u001b[0;34m\u001b[0m\u001b[0m\n\u001b[1;32m     15\u001b[0m             \u001b[0mx\u001b[0m\u001b[0;34m,\u001b[0m \u001b[0mlabels\u001b[0m\u001b[0;34m,\u001b[0m \u001b[0;34m*\u001b[0m\u001b[0mextras\u001b[0m \u001b[0;34m=\u001b[0m \u001b[0mitems\u001b[0m\u001b[0;34m\u001b[0m\u001b[0;34m\u001b[0m\u001b[0m\n\u001b[0;32m---> 16\u001b[0;31m             \u001b[0mlogits\u001b[0m \u001b[0;34m=\u001b[0m \u001b[0mnet\u001b[0m\u001b[0;34m(\u001b[0m\u001b[0mx\u001b[0m\u001b[0;34m.\u001b[0m\u001b[0mto\u001b[0m\u001b[0;34m(\u001b[0m\u001b[0mdevice\u001b[0m\u001b[0;34m)\u001b[0m\u001b[0;34m)\u001b[0m\u001b[0;34m\u001b[0m\u001b[0;34m\u001b[0m\u001b[0m\n\u001b[0m\u001b[1;32m     17\u001b[0m             \u001b[0mpredictions\u001b[0m \u001b[0;34m=\u001b[0m \u001b[0mtorch\u001b[0m\u001b[0;34m.\u001b[0m\u001b[0margmax\u001b[0m\u001b[0;34m(\u001b[0m\u001b[0mlogits\u001b[0m\u001b[0;34m,\u001b[0m \u001b[0mdim\u001b[0m\u001b[0;34m=\u001b[0m\u001b[0;36m1\u001b[0m\u001b[0;34m)\u001b[0m\u001b[0;34m\u001b[0m\u001b[0;34m\u001b[0m\u001b[0m\n\u001b[1;32m     18\u001b[0m             \u001b[0mcorrect\u001b[0m \u001b[0;34m+=\u001b[0m \u001b[0mtorch\u001b[0m\u001b[0;34m.\u001b[0m\u001b[0msum\u001b[0m\u001b[0;34m(\u001b[0m\u001b[0mpredictions\u001b[0m \u001b[0;34m==\u001b[0m \u001b[0mlabels\u001b[0m\u001b[0;34m.\u001b[0m\u001b[0mto\u001b[0m\u001b[0;34m(\u001b[0m\u001b[0mdevice\u001b[0m\u001b[0;34m)\u001b[0m\u001b[0;34m)\u001b[0m\u001b[0;34m.\u001b[0m\u001b[0mitem\u001b[0m\u001b[0;34m(\u001b[0m\u001b[0;34m)\u001b[0m\u001b[0;34m\u001b[0m\u001b[0;34m\u001b[0m\u001b[0m\n",
      "\u001b[0;31mKeyboardInterrupt\u001b[0m: "
     ]
    }
   ],
   "source": [
    "from vit_prisma.models.base_vit import BaseViT\n",
    "from vit_prisma.training import trainer\n",
    "\n",
    "\n",
    "\n",
    "config = GlobalConfig()\n",
    "\n",
    "config\n",
    "\n",
    "model_function = BaseViT\n",
    "\n",
    "# trainer.train(model_function, config, balanced_global_dataset)\n",
    "\n",
    "trainer.train(model_function, config, local_patch_dataset)\n",
    "\n"
   ]
  },
  {
   "cell_type": "code",
   "execution_count": null,
   "metadata": {},
   "outputs": [
    {
     "data": {
      "text/plain": [
       "28"
      ]
     },
     "execution_count": 13,
     "metadata": {},
     "output_type": "execute_result"
    }
   ],
   "source": [
    "config.image.image_size "
   ]
  },
  {
   "cell_type": "markdown",
   "metadata": {},
   "source": [
    "## Local dataset"
   ]
  },
  {
   "cell_type": "markdown",
   "metadata": {},
   "source": []
  },
  {
   "cell_type": "markdown",
   "metadata": {},
   "source": []
  }
 ],
 "metadata": {
  "kernelspec": {
   "display_name": "env",
   "language": "python",
   "name": "python3"
  },
  "language_info": {
   "codemirror_mode": {
    "name": "ipython",
    "version": 3
   },
   "file_extension": ".py",
   "mimetype": "text/x-python",
   "name": "python",
   "nbconvert_exporter": "python",
   "pygments_lexer": "ipython3",
   "version": "3.7.4"
  }
 },
 "nbformat": 4,
 "nbformat_minor": 2
}
